{
 "cells": [
  {
   "cell_type": "code",
   "execution_count": 4,
   "metadata": {},
   "outputs": [
    {
     "data": {
      "text/plain": [
       "(        entity  year  annual_co₂_emissions_(per_capita)\n",
       " 0  Afghanistan  1949                           0.001992\n",
       " 1  Afghanistan  1950                           0.010837\n",
       " 2  Afghanistan  1951                           0.011625\n",
       " 3  Afghanistan  1952                           0.011468\n",
       " 4  Afghanistan  1953                           0.013123,\n",
       " (26317, 3),\n",
       " entity                                object\n",
       " year                                   int64\n",
       " annual_co₂_emissions_(per_capita)    float64\n",
       " dtype: object)"
      ]
     },
     "execution_count": 4,
     "metadata": {},
     "output_type": "execute_result"
    }
   ],
   "source": [
    "# --- load packages ---\n",
    "import pandas as pd\n",
    "from pathlib import Path\n",
    "\n",
    "# --- paths ---\n",
    "OWID = Path(\"../data/processed/owid_transformed.csv\")\n",
    "FIGS = Path(\"../reports/figures\") # output figures\n",
    "\n",
    "# --- load ---\n",
    "owid = pd.read_csv(OWID)\n",
    "\n",
    "# --- checks ---\n",
    "owid.head(), owid.shape, owid.dtypes\n",
    "owid.__class__"
   ]
  }
 ],
 "metadata": {
  "kernelspec": {
   "display_name": "base",
   "language": "python",
   "name": "python3"
  },
  "language_info": {
   "codemirror_mode": {
    "name": "ipython",
    "version": 3
   },
   "file_extension": ".py",
   "mimetype": "text/x-python",
   "name": "python",
   "nbconvert_exporter": "python",
   "pygments_lexer": "ipython3",
   "version": "3.11.5"
  }
 },
 "nbformat": 4,
 "nbformat_minor": 2
}
